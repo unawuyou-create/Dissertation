{
  "nbformat": 4,
  "nbformat_minor": 0,
  "metadata": {
    "colab": {
      "provenance": [],
      "authorship_tag": "ABX9TyNhzEIfdnKjSf3LIhc+UZoQ",
      "include_colab_link": true
    },
    "kernelspec": {
      "name": "python3",
      "display_name": "Python 3"
    },
    "language_info": {
      "name": "python"
    }
  },
  "cells": [
    {
      "cell_type": "markdown",
      "metadata": {
        "id": "view-in-github",
        "colab_type": "text"
      },
      "source": [
        "<a href=\"https://colab.research.google.com/github/unawuyou-create/Dissertation/blob/main/2.1.%20Overview_of_FIRST_purchase.ipynb\" target=\"_parent\"><img src=\"https://colab.research.google.com/assets/colab-badge.svg\" alt=\"Open In Colab\"/></a>"
      ]
    },
    {
      "cell_type": "code",
      "source": [
        "import pandas as pd\n",
        "df = pd.read_excel(\"/content/ComparetheMarket_reviews.xlsx\")\n",
        "data = 'ComparetheMarket_reviews.xlsx' # change the csv file name to your file name that you uploaded\n",
        "df = pd.read_excel(data)\n",
        "\n",
        "df.head()"
      ],
      "metadata": {
        "id": "sOcktaGaR86-"
      },
      "execution_count": null,
      "outputs": []
    },
    {
      "cell_type": "code",
      "source": [
        "len(df)"
      ],
      "metadata": {
        "id": "N6WJQtmaVe-V"
      },
      "execution_count": null,
      "outputs": []
    },
    {
      "cell_type": "code",
      "source": [
        "df = df.dropna(subset=[\"title\", \"rating\"])\n",
        "len(df)"
      ],
      "metadata": {
        "id": "UfHq0QtAXySr"
      },
      "execution_count": null,
      "outputs": []
    },
    {
      "cell_type": "code",
      "source": [
        "!pip install pandasql"
      ],
      "metadata": {
        "id": "lVDDK7RFN7Zh"
      },
      "execution_count": null,
      "outputs": []
    },
    {
      "cell_type": "code",
      "source": [
        "from pandasql import sqldf\n",
        "pysqldf = lambda q: sqldf(q, globals())\n",
        "\n",
        "query= f\"\"\"\n",
        "SELECT Review, User, Title, Rating, Date\n",
        "FROM df\n",
        "WHERE LOWER(Review) LIKE '%first%'\n",
        "   OR LOWER(Review) LIKE '%new%'\n",
        "   OR LOWER(Review) LIKE '%first purchase%'\n",
        "   OR LOWER(Review) LIKE '%initial sale%'\n",
        "   OR LOWER(Review) LIKE '%one-time purchase%'\n",
        "   OR LOWER(Review) LIKE '%one-shot deal%'\n",
        "   OR LOWER(Review) LIKE '%first order%'\n",
        "   OR LOWER(Review) LIKE '%initial installation%'\n",
        "   OR LOWER(Title) LIKE '%first%'\n",
        "   OR LOWER(Title) LIKE '%new%'\n",
        "   OR LOWER(Title) LIKE '%first purchase%'\n",
        "   OR LOWER(Title) LIKE '%initial sale%'\n",
        "   OR LOWER(Title) LIKE '%one-time purchase%'\n",
        "   OR LOWER(Title) LIKE '%one-shot deal%'\n",
        "   OR LOWER(Title) LIKE '%first order%'\n",
        "   OR LOWER(Title) LIKE '%initial installation%'\n",
        "\n",
        "\"\"\"\n",
        "result_df = pysqldf(query)\n",
        "\n",
        "result_df.head()"
      ],
      "metadata": {
        "id": "Bu95rd_uJZtE"
      },
      "execution_count": null,
      "outputs": []
    },
    {
      "cell_type": "code",
      "source": [
        "result_df.to_excel('Firstpurchase_review.xlsx', index=False)"
      ],
      "metadata": {
        "id": "ae61sEIUM9V8"
      },
      "execution_count": null,
      "outputs": []
    },
    {
      "cell_type": "code",
      "source": [
        "df = result_df"
      ],
      "metadata": {
        "id": "o3lUhgbeRymH"
      },
      "execution_count": null,
      "outputs": []
    },
    {
      "cell_type": "code",
      "source": [
        "df[\"Date\"] = pd.to_datetime(df[\"Date\"], format=\"%B %d, %Y\", errors=\"coerce\")\n",
        "\n",
        "# total number of review\n",
        "title_count = len(df)\n",
        "\n",
        "# get the time range of reviews (earliest and latest dates)\n",
        "min_date = df[\"Date\"].min()\n",
        "max_date = df[\"Date\"].max()\n",
        "\n",
        "# Calculate rating statistics\n",
        "rating_mean = df[\"rating\"].mean()\n",
        "rating_median = df[\"rating\"].median()\n",
        "rating_var = df[\"rating\"].var()\n",
        "\n",
        "# print results\n",
        "print(f\"Total number of Titles: {title_count}\")\n",
        "print(f\"Review date range: {min_date.date()} – {max_date.date()}\")\n",
        "print(\"Rating statistics:\")\n",
        "print(f\"  Mean: {rating_mean:.2f}\")\n",
        "print(f\"  Median: {rating_median}\")\n",
        "print(f\"  Variance: {rating_var:.2f}\")"
      ],
      "metadata": {
        "id": "e4WGTRsxP5HS"
      },
      "execution_count": null,
      "outputs": []
    },
    {
      "cell_type": "code",
      "source": [
        "#the number of each rating score\n",
        "query = \"\"\"\n",
        "\n",
        "SELECT rating, COUNT(*) as count\n",
        "FROM df\n",
        "WHERE rating IN (1,2,3,4,5)\n",
        "GROUP BY rating\n",
        "ORDER BY rating;\n",
        "\"\"\"\n",
        "result_df = pysqldf(query)\n",
        "\n",
        "for _, row in result_df.iterrows():\n",
        "    print(f\"Rating {row['rating']}: {row['count']} reviews\")\n"
      ],
      "metadata": {
        "id": "Yz5trKM1Taxh"
      },
      "execution_count": null,
      "outputs": []
    },
    {
      "cell_type": "code",
      "source": [
        "import matplotlib.pyplot as plt\n",
        "plt.figure(figsize=(6,4))\n",
        "plt.hist(df[\"rating\"].dropna(), bins=range(1,7), edgecolor=\"black\", alpha=0.7)\n",
        "plt.xticks(range(1,6))\n",
        "plt.xlabel(\"Rating\")\n",
        "plt.ylabel(\"Count\")\n",
        "plt.title(\"First Purchase Rating Distribution\")\n",
        "plt.show()"
      ],
      "metadata": {
        "id": "ZCLAbYIpR64P"
      },
      "execution_count": null,
      "outputs": []
    }
  ]
}