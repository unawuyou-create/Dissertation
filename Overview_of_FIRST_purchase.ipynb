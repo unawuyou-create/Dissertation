{
  "nbformat": 4,
  "nbformat_minor": 0,
  "metadata": {
    "colab": {
      "provenance": [],
      "authorship_tag": "ABX9TyMLFzUR3/wfJ4uVYd7ORJ1d",
      "include_colab_link": true
    },
    "kernelspec": {
      "name": "python3",
      "display_name": "Python 3"
    },
    "language_info": {
      "name": "python"
    }
  },
  "cells": [
    {
      "cell_type": "markdown",
      "metadata": {
        "id": "view-in-github",
        "colab_type": "text"
      },
      "source": [
        "<a href=\"https://colab.research.google.com/github/unawuyou-create/Dissertation/blob/main/Overview_of_FIRST_purchase.ipynb\" target=\"_parent\"><img src=\"https://colab.research.google.com/assets/colab-badge.svg\" alt=\"Open In Colab\"/></a>"
      ]
    },
    {
      "cell_type": "code",
      "execution_count": null,
      "metadata": {
        "id": "8HgAaQmUNOgq"
      },
      "outputs": [],
      "source": [
        "# Let's import data first\n",
        "# Run the code and upload the csv file from your laptop\n",
        "#from google.colab import files\n",
        "#uploaded = files.upload()"
      ]
    },
    {
      "cell_type": "code",
      "source": [
        "import pandas as pd\n",
        "df = pd.read_excel(\"/content/ComparetheMarket_reviews.xlsx\")\n",
        "data = 'ComparetheMarket_reviews.xlsx' # change the csv file name to your file name that you uploaded\n",
        "df = pd.read_excel(data)\n",
        "\n",
        "df.head()"
      ],
      "metadata": {
        "id": "sOcktaGaR86-",
        "colab": {
          "base_uri": "https://localhost:8080/",
          "height": 206
        },
        "outputId": "fd4801a1-5580-4cce-c1f8-e2a95392dbd7"
      },
      "execution_count": 2,
      "outputs": [
        {
          "output_type": "execute_result",
          "data": {
            "text/plain": [
              "           user                                     title  rating  \\\n",
              "0  pete bracken  you put me3 on to direct line who saved…       5   \n",
              "1        gibson                           Price was great       5   \n",
              "2       Michael                                   Helpful       5   \n",
              "3       esthrgn          Easy to use and navigate through       5   \n",
              "4     Lynda Ede      The information I received was very…       5   \n",
              "\n",
              "                                              review                      date  \n",
              "0  you put me3 on to direct line who saved me £20...  2025-08-29T13:02:01.000Z  \n",
              "1                                    Price was great  2025-08-29T13:00:32.000Z  \n",
              "2                      Good prices excellent service  2025-08-29T12:41:15.000Z  \n",
              "3                  Easy to use and navigate through   2025-08-29T12:12:09.000Z  \n",
              "4  The information I received was very good and t...  2025-08-29T12:10:05.000Z  "
            ],
            "text/html": [
              "\n",
              "  <div id=\"df-e1f82987-2106-4701-b346-0c9c22aaf4a4\" class=\"colab-df-container\">\n",
              "    <div>\n",
              "<style scoped>\n",
              "    .dataframe tbody tr th:only-of-type {\n",
              "        vertical-align: middle;\n",
              "    }\n",
              "\n",
              "    .dataframe tbody tr th {\n",
              "        vertical-align: top;\n",
              "    }\n",
              "\n",
              "    .dataframe thead th {\n",
              "        text-align: right;\n",
              "    }\n",
              "</style>\n",
              "<table border=\"1\" class=\"dataframe\">\n",
              "  <thead>\n",
              "    <tr style=\"text-align: right;\">\n",
              "      <th></th>\n",
              "      <th>user</th>\n",
              "      <th>title</th>\n",
              "      <th>rating</th>\n",
              "      <th>review</th>\n",
              "      <th>date</th>\n",
              "    </tr>\n",
              "  </thead>\n",
              "  <tbody>\n",
              "    <tr>\n",
              "      <th>0</th>\n",
              "      <td>pete bracken</td>\n",
              "      <td>you put me3 on to direct line who saved…</td>\n",
              "      <td>5</td>\n",
              "      <td>you put me3 on to direct line who saved me £20...</td>\n",
              "      <td>2025-08-29T13:02:01.000Z</td>\n",
              "    </tr>\n",
              "    <tr>\n",
              "      <th>1</th>\n",
              "      <td>gibson</td>\n",
              "      <td>Price was great</td>\n",
              "      <td>5</td>\n",
              "      <td>Price was great</td>\n",
              "      <td>2025-08-29T13:00:32.000Z</td>\n",
              "    </tr>\n",
              "    <tr>\n",
              "      <th>2</th>\n",
              "      <td>Michael</td>\n",
              "      <td>Helpful</td>\n",
              "      <td>5</td>\n",
              "      <td>Good prices excellent service</td>\n",
              "      <td>2025-08-29T12:41:15.000Z</td>\n",
              "    </tr>\n",
              "    <tr>\n",
              "      <th>3</th>\n",
              "      <td>esthrgn</td>\n",
              "      <td>Easy to use and navigate through</td>\n",
              "      <td>5</td>\n",
              "      <td>Easy to use and navigate through</td>\n",
              "      <td>2025-08-29T12:12:09.000Z</td>\n",
              "    </tr>\n",
              "    <tr>\n",
              "      <th>4</th>\n",
              "      <td>Lynda Ede</td>\n",
              "      <td>The information I received was very…</td>\n",
              "      <td>5</td>\n",
              "      <td>The information I received was very good and t...</td>\n",
              "      <td>2025-08-29T12:10:05.000Z</td>\n",
              "    </tr>\n",
              "  </tbody>\n",
              "</table>\n",
              "</div>\n",
              "    <div class=\"colab-df-buttons\">\n",
              "\n",
              "  <div class=\"colab-df-container\">\n",
              "    <button class=\"colab-df-convert\" onclick=\"convertToInteractive('df-e1f82987-2106-4701-b346-0c9c22aaf4a4')\"\n",
              "            title=\"Convert this dataframe to an interactive table.\"\n",
              "            style=\"display:none;\">\n",
              "\n",
              "  <svg xmlns=\"http://www.w3.org/2000/svg\" height=\"24px\" viewBox=\"0 -960 960 960\">\n",
              "    <path d=\"M120-120v-720h720v720H120Zm60-500h600v-160H180v160Zm220 220h160v-160H400v160Zm0 220h160v-160H400v160ZM180-400h160v-160H180v160Zm440 0h160v-160H620v160ZM180-180h160v-160H180v160Zm440 0h160v-160H620v160Z\"/>\n",
              "  </svg>\n",
              "    </button>\n",
              "\n",
              "  <style>\n",
              "    .colab-df-container {\n",
              "      display:flex;\n",
              "      gap: 12px;\n",
              "    }\n",
              "\n",
              "    .colab-df-convert {\n",
              "      background-color: #E8F0FE;\n",
              "      border: none;\n",
              "      border-radius: 50%;\n",
              "      cursor: pointer;\n",
              "      display: none;\n",
              "      fill: #1967D2;\n",
              "      height: 32px;\n",
              "      padding: 0 0 0 0;\n",
              "      width: 32px;\n",
              "    }\n",
              "\n",
              "    .colab-df-convert:hover {\n",
              "      background-color: #E2EBFA;\n",
              "      box-shadow: 0px 1px 2px rgba(60, 64, 67, 0.3), 0px 1px 3px 1px rgba(60, 64, 67, 0.15);\n",
              "      fill: #174EA6;\n",
              "    }\n",
              "\n",
              "    .colab-df-buttons div {\n",
              "      margin-bottom: 4px;\n",
              "    }\n",
              "\n",
              "    [theme=dark] .colab-df-convert {\n",
              "      background-color: #3B4455;\n",
              "      fill: #D2E3FC;\n",
              "    }\n",
              "\n",
              "    [theme=dark] .colab-df-convert:hover {\n",
              "      background-color: #434B5C;\n",
              "      box-shadow: 0px 1px 3px 1px rgba(0, 0, 0, 0.15);\n",
              "      filter: drop-shadow(0px 1px 2px rgba(0, 0, 0, 0.3));\n",
              "      fill: #FFFFFF;\n",
              "    }\n",
              "  </style>\n",
              "\n",
              "    <script>\n",
              "      const buttonEl =\n",
              "        document.querySelector('#df-e1f82987-2106-4701-b346-0c9c22aaf4a4 button.colab-df-convert');\n",
              "      buttonEl.style.display =\n",
              "        google.colab.kernel.accessAllowed ? 'block' : 'none';\n",
              "\n",
              "      async function convertToInteractive(key) {\n",
              "        const element = document.querySelector('#df-e1f82987-2106-4701-b346-0c9c22aaf4a4');\n",
              "        const dataTable =\n",
              "          await google.colab.kernel.invokeFunction('convertToInteractive',\n",
              "                                                    [key], {});\n",
              "        if (!dataTable) return;\n",
              "\n",
              "        const docLinkHtml = 'Like what you see? Visit the ' +\n",
              "          '<a target=\"_blank\" href=https://colab.research.google.com/notebooks/data_table.ipynb>data table notebook</a>'\n",
              "          + ' to learn more about interactive tables.';\n",
              "        element.innerHTML = '';\n",
              "        dataTable['output_type'] = 'display_data';\n",
              "        await google.colab.output.renderOutput(dataTable, element);\n",
              "        const docLink = document.createElement('div');\n",
              "        docLink.innerHTML = docLinkHtml;\n",
              "        element.appendChild(docLink);\n",
              "      }\n",
              "    </script>\n",
              "  </div>\n",
              "\n",
              "\n",
              "    <div id=\"df-5c41c81b-d820-4b4d-8efb-e2fb9e85714d\">\n",
              "      <button class=\"colab-df-quickchart\" onclick=\"quickchart('df-5c41c81b-d820-4b4d-8efb-e2fb9e85714d')\"\n",
              "                title=\"Suggest charts\"\n",
              "                style=\"display:none;\">\n",
              "\n",
              "<svg xmlns=\"http://www.w3.org/2000/svg\" height=\"24px\"viewBox=\"0 0 24 24\"\n",
              "     width=\"24px\">\n",
              "    <g>\n",
              "        <path d=\"M19 3H5c-1.1 0-2 .9-2 2v14c0 1.1.9 2 2 2h14c1.1 0 2-.9 2-2V5c0-1.1-.9-2-2-2zM9 17H7v-7h2v7zm4 0h-2V7h2v10zm4 0h-2v-4h2v4z\"/>\n",
              "    </g>\n",
              "</svg>\n",
              "      </button>\n",
              "\n",
              "<style>\n",
              "  .colab-df-quickchart {\n",
              "      --bg-color: #E8F0FE;\n",
              "      --fill-color: #1967D2;\n",
              "      --hover-bg-color: #E2EBFA;\n",
              "      --hover-fill-color: #174EA6;\n",
              "      --disabled-fill-color: #AAA;\n",
              "      --disabled-bg-color: #DDD;\n",
              "  }\n",
              "\n",
              "  [theme=dark] .colab-df-quickchart {\n",
              "      --bg-color: #3B4455;\n",
              "      --fill-color: #D2E3FC;\n",
              "      --hover-bg-color: #434B5C;\n",
              "      --hover-fill-color: #FFFFFF;\n",
              "      --disabled-bg-color: #3B4455;\n",
              "      --disabled-fill-color: #666;\n",
              "  }\n",
              "\n",
              "  .colab-df-quickchart {\n",
              "    background-color: var(--bg-color);\n",
              "    border: none;\n",
              "    border-radius: 50%;\n",
              "    cursor: pointer;\n",
              "    display: none;\n",
              "    fill: var(--fill-color);\n",
              "    height: 32px;\n",
              "    padding: 0;\n",
              "    width: 32px;\n",
              "  }\n",
              "\n",
              "  .colab-df-quickchart:hover {\n",
              "    background-color: var(--hover-bg-color);\n",
              "    box-shadow: 0 1px 2px rgba(60, 64, 67, 0.3), 0 1px 3px 1px rgba(60, 64, 67, 0.15);\n",
              "    fill: var(--button-hover-fill-color);\n",
              "  }\n",
              "\n",
              "  .colab-df-quickchart-complete:disabled,\n",
              "  .colab-df-quickchart-complete:disabled:hover {\n",
              "    background-color: var(--disabled-bg-color);\n",
              "    fill: var(--disabled-fill-color);\n",
              "    box-shadow: none;\n",
              "  }\n",
              "\n",
              "  .colab-df-spinner {\n",
              "    border: 2px solid var(--fill-color);\n",
              "    border-color: transparent;\n",
              "    border-bottom-color: var(--fill-color);\n",
              "    animation:\n",
              "      spin 1s steps(1) infinite;\n",
              "  }\n",
              "\n",
              "  @keyframes spin {\n",
              "    0% {\n",
              "      border-color: transparent;\n",
              "      border-bottom-color: var(--fill-color);\n",
              "      border-left-color: var(--fill-color);\n",
              "    }\n",
              "    20% {\n",
              "      border-color: transparent;\n",
              "      border-left-color: var(--fill-color);\n",
              "      border-top-color: var(--fill-color);\n",
              "    }\n",
              "    30% {\n",
              "      border-color: transparent;\n",
              "      border-left-color: var(--fill-color);\n",
              "      border-top-color: var(--fill-color);\n",
              "      border-right-color: var(--fill-color);\n",
              "    }\n",
              "    40% {\n",
              "      border-color: transparent;\n",
              "      border-right-color: var(--fill-color);\n",
              "      border-top-color: var(--fill-color);\n",
              "    }\n",
              "    60% {\n",
              "      border-color: transparent;\n",
              "      border-right-color: var(--fill-color);\n",
              "    }\n",
              "    80% {\n",
              "      border-color: transparent;\n",
              "      border-right-color: var(--fill-color);\n",
              "      border-bottom-color: var(--fill-color);\n",
              "    }\n",
              "    90% {\n",
              "      border-color: transparent;\n",
              "      border-bottom-color: var(--fill-color);\n",
              "    }\n",
              "  }\n",
              "</style>\n",
              "\n",
              "      <script>\n",
              "        async function quickchart(key) {\n",
              "          const quickchartButtonEl =\n",
              "            document.querySelector('#' + key + ' button');\n",
              "          quickchartButtonEl.disabled = true;  // To prevent multiple clicks.\n",
              "          quickchartButtonEl.classList.add('colab-df-spinner');\n",
              "          try {\n",
              "            const charts = await google.colab.kernel.invokeFunction(\n",
              "                'suggestCharts', [key], {});\n",
              "          } catch (error) {\n",
              "            console.error('Error during call to suggestCharts:', error);\n",
              "          }\n",
              "          quickchartButtonEl.classList.remove('colab-df-spinner');\n",
              "          quickchartButtonEl.classList.add('colab-df-quickchart-complete');\n",
              "        }\n",
              "        (() => {\n",
              "          let quickchartButtonEl =\n",
              "            document.querySelector('#df-5c41c81b-d820-4b4d-8efb-e2fb9e85714d button');\n",
              "          quickchartButtonEl.style.display =\n",
              "            google.colab.kernel.accessAllowed ? 'block' : 'none';\n",
              "        })();\n",
              "      </script>\n",
              "    </div>\n",
              "    </div>\n",
              "  </div>\n"
            ],
            "application/vnd.google.colaboratory.intrinsic+json": {
              "type": "dataframe",
              "variable_name": "df",
              "summary": "{\n  \"name\": \"df\",\n  \"rows\": 120,\n  \"fields\": [\n    {\n      \"column\": \"user\",\n      \"properties\": {\n        \"dtype\": \"string\",\n        \"num_unique_values\": 111,\n        \"samples\": [\n          \"Lee\",\n          \"Mr Melfyn Walters\",\n          \"Lynda Ede\"\n        ],\n        \"semantic_type\": \"\",\n        \"description\": \"\"\n      }\n    },\n    {\n      \"column\": \"title\",\n      \"properties\": {\n        \"dtype\": \"string\",\n        \"num_unique_values\": 120,\n        \"samples\": [\n          \"Travel insurance \",\n          \"Dog insurance\",\n          \"The information I received was very\\u2026\"\n        ],\n        \"semantic_type\": \"\",\n        \"description\": \"\"\n      }\n    },\n    {\n      \"column\": \"rating\",\n      \"properties\": {\n        \"dtype\": \"number\",\n        \"std\": 0,\n        \"min\": 1,\n        \"max\": 5,\n        \"num_unique_values\": 4,\n        \"samples\": [\n          4,\n          1,\n          5\n        ],\n        \"semantic_type\": \"\",\n        \"description\": \"\"\n      }\n    },\n    {\n      \"column\": \"review\",\n      \"properties\": {\n        \"dtype\": \"string\",\n        \"num_unique_values\": 120,\n        \"samples\": [\n          \"Quick and easy, and cheap travel insurance. Recommend to anyone \",\n          \"Easy to navigate. Quick response with loads of quotes. Very good. \",\n          \"The information I received was very good and there were a few Company's to choose from I picked one and the process was very simple and all was done within  half an hour and I got all paperwork via my email and easy to access and double check all the information was covered I would definitely recommend using this site it gives you  a good variety of options\"\n        ],\n        \"semantic_type\": \"\",\n        \"description\": \"\"\n      }\n    },\n    {\n      \"column\": \"date\",\n      \"properties\": {\n        \"dtype\": \"object\",\n        \"num_unique_values\": 120,\n        \"samples\": [\n          \"2025-08-28T18:27:54.000Z\",\n          \"2025-08-28T17:59:51.000Z\",\n          \"2025-08-29T12:10:05.000Z\"\n        ],\n        \"semantic_type\": \"\",\n        \"description\": \"\"\n      }\n    }\n  ]\n}"
            }
          },
          "metadata": {},
          "execution_count": 2
        }
      ]
    },
    {
      "cell_type": "code",
      "source": [
        "len(df)"
      ],
      "metadata": {
        "id": "N6WJQtmaVe-V",
        "colab": {
          "base_uri": "https://localhost:8080/"
        },
        "outputId": "95ac631f-ccd5-4057-eed5-b0a294a329ff"
      },
      "execution_count": 3,
      "outputs": [
        {
          "output_type": "execute_result",
          "data": {
            "text/plain": [
              "120"
            ]
          },
          "metadata": {},
          "execution_count": 3
        }
      ]
    },
    {
      "cell_type": "code",
      "source": [
        "df = df.dropna(subset=[\"title\", \"rating\"])\n",
        "len(df)"
      ],
      "metadata": {
        "id": "UfHq0QtAXySr",
        "colab": {
          "base_uri": "https://localhost:8080/"
        },
        "outputId": "8bfe89e0-d466-4875-afc2-14c0d34eff9e"
      },
      "execution_count": 4,
      "outputs": [
        {
          "output_type": "execute_result",
          "data": {
            "text/plain": [
              "120"
            ]
          },
          "metadata": {},
          "execution_count": 4
        }
      ]
    },
    {
      "cell_type": "code",
      "source": [
        "!pip install pandasql"
      ],
      "metadata": {
        "id": "lVDDK7RFN7Zh",
        "colab": {
          "base_uri": "https://localhost:8080/"
        },
        "outputId": "89409fe2-7440-471c-b3cc-0af3c23e152c"
      },
      "execution_count": 5,
      "outputs": [
        {
          "output_type": "stream",
          "name": "stdout",
          "text": [
            "Collecting pandasql\n",
            "  Downloading pandasql-0.7.3.tar.gz (26 kB)\n",
            "  Preparing metadata (setup.py) ... \u001b[?25l\u001b[?25hdone\n",
            "Requirement already satisfied: numpy in /usr/local/lib/python3.12/dist-packages (from pandasql) (2.0.2)\n",
            "Requirement already satisfied: pandas in /usr/local/lib/python3.12/dist-packages (from pandasql) (2.2.2)\n",
            "Requirement already satisfied: sqlalchemy in /usr/local/lib/python3.12/dist-packages (from pandasql) (2.0.43)\n",
            "Requirement already satisfied: python-dateutil>=2.8.2 in /usr/local/lib/python3.12/dist-packages (from pandas->pandasql) (2.9.0.post0)\n",
            "Requirement already satisfied: pytz>=2020.1 in /usr/local/lib/python3.12/dist-packages (from pandas->pandasql) (2025.2)\n",
            "Requirement already satisfied: tzdata>=2022.7 in /usr/local/lib/python3.12/dist-packages (from pandas->pandasql) (2025.2)\n",
            "Requirement already satisfied: greenlet>=1 in /usr/local/lib/python3.12/dist-packages (from sqlalchemy->pandasql) (3.2.4)\n",
            "Requirement already satisfied: typing-extensions>=4.6.0 in /usr/local/lib/python3.12/dist-packages (from sqlalchemy->pandasql) (4.15.0)\n",
            "Requirement already satisfied: six>=1.5 in /usr/local/lib/python3.12/dist-packages (from python-dateutil>=2.8.2->pandas->pandasql) (1.17.0)\n",
            "Building wheels for collected packages: pandasql\n",
            "  Building wheel for pandasql (setup.py) ... \u001b[?25l\u001b[?25hdone\n",
            "  Created wheel for pandasql: filename=pandasql-0.7.3-py3-none-any.whl size=26773 sha256=5d492c53e3b821190e3b660f90b38f4a0720a96c44141efc82d0890baa109fa0\n",
            "  Stored in directory: /root/.cache/pip/wheels/15/a1/e7/6f92f295b5272ae5c02365e6b8fa19cb93f16a537090a1cf27\n",
            "Successfully built pandasql\n",
            "Installing collected packages: pandasql\n",
            "Successfully installed pandasql-0.7.3\n"
          ]
        }
      ]
    },
    {
      "cell_type": "code",
      "source": [
        "from pandasql import sqldf\n",
        "pysqldf = lambda q: sqldf(q, globals())\n",
        "\n",
        "query= f\"\"\"\n",
        "SELECT Review, User, Title, Rating, Date\n",
        "FROM df\n",
        "WHERE LOWER(Review) LIKE '%first%'\n",
        "   OR LOWER(Review) LIKE '%new%'\n",
        "   OR LOWER(Review) LIKE '%first purchase%'\n",
        "   OR LOWER(Review) LIKE '%initial sale%'\n",
        "   OR LOWER(Review) LIKE '%one-time purchase%'\n",
        "   OR LOWER(Review) LIKE '%one-shot deal%'\n",
        "   OR LOWER(Review) LIKE '%first order%'\n",
        "   OR LOWER(Review) LIKE '%initial installation%'\n",
        "   OR LOWER(Title) LIKE '%first%'\n",
        "   OR LOWER(Title) LIKE '%new%'\n",
        "   OR LOWER(Title) LIKE '%first purchase%'\n",
        "   OR LOWER(Title) LIKE '%initial sale%'\n",
        "   OR LOWER(Title) LIKE '%one-time purchase%'\n",
        "   OR LOWER(Title) LIKE '%one-shot deal%'\n",
        "   OR LOWER(Title) LIKE '%first order%'\n",
        "   OR LOWER(Title) LIKE '%initial installation%'\n",
        "\n",
        "\"\"\"\n",
        "result_df = pysqldf(query)\n",
        "\n",
        "result_df.head()"
      ],
      "metadata": {
        "id": "Bu95rd_uJZtE"
      },
      "execution_count": null,
      "outputs": []
    },
    {
      "cell_type": "code",
      "source": [
        "result_df.to_excel('Firstpurchase_review.xlsx', index=False)"
      ],
      "metadata": {
        "id": "ae61sEIUM9V8"
      },
      "execution_count": null,
      "outputs": []
    },
    {
      "cell_type": "code",
      "source": [
        "df = result_df"
      ],
      "metadata": {
        "id": "o3lUhgbeRymH"
      },
      "execution_count": null,
      "outputs": []
    },
    {
      "cell_type": "code",
      "source": [
        "df[\"Date\"] = pd.to_datetime(df[\"Date\"], format=\"%B %d, %Y\", errors=\"coerce\")\n",
        "\n",
        "# total number of review\n",
        "title_count = len(df)\n",
        "\n",
        "# get the time range of reviews (earliest and latest dates)\n",
        "min_date = df[\"Date\"].min()\n",
        "max_date = df[\"Date\"].max()\n",
        "\n",
        "# Calculate rating statistics\n",
        "rating_mean = df[\"rating\"].mean()\n",
        "rating_median = df[\"rating\"].median()\n",
        "rating_var = df[\"rating\"].var()\n",
        "\n",
        "# print results\n",
        "print(f\"Total number of Titles: {title_count}\")\n",
        "print(f\"Review date range: {min_date.date()} – {max_date.date()}\")\n",
        "print(\"Rating statistics:\")\n",
        "print(f\"  Mean: {rating_mean:.2f}\")\n",
        "print(f\"  Median: {rating_median}\")\n",
        "print(f\"  Variance: {rating_var:.2f}\")"
      ],
      "metadata": {
        "id": "e4WGTRsxP5HS"
      },
      "execution_count": null,
      "outputs": []
    },
    {
      "cell_type": "code",
      "source": [
        "#the number of each rating score\n",
        "query = \"\"\"\n",
        "\n",
        "SELECT rating, COUNT(*) as count\n",
        "FROM df\n",
        "WHERE rating IN (1,2,3,4,5)\n",
        "GROUP BY rating\n",
        "ORDER BY rating;\n",
        "\"\"\"\n",
        "result_df = pysqldf(query)\n",
        "\n",
        "for _, row in result_df.iterrows():\n",
        "    print(f\"Rating {row['rating']}: {row['count']} reviews\")\n"
      ],
      "metadata": {
        "id": "Yz5trKM1Taxh"
      },
      "execution_count": null,
      "outputs": []
    },
    {
      "cell_type": "code",
      "source": [
        "import matplotlib.pyplot as plt\n",
        "plt.figure(figsize=(6,4))\n",
        "plt.hist(df[\"rating\"].dropna(), bins=range(1,7), edgecolor=\"black\", alpha=0.7)\n",
        "plt.xticks(range(1,6))\n",
        "plt.xlabel(\"Rating\")\n",
        "plt.ylabel(\"Count\")\n",
        "plt.title(\"First Purchase Rating Distribution\")\n",
        "plt.show()"
      ],
      "metadata": {
        "id": "ZCLAbYIpR64P"
      },
      "execution_count": null,
      "outputs": []
    }
  ]
}